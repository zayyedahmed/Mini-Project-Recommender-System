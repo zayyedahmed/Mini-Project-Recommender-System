{
 "cells": [
  {
   "cell_type": "markdown",
   "metadata": {},
   "source": [
    "# Restaurant Recommendation System"
   ]
  },
  {
   "cell_type": "code",
   "execution_count": 1,
   "metadata": {
    "ExecuteTime": {
     "end_time": "2019-11-19T06:43:23.391928Z",
     "start_time": "2019-11-19T06:43:23.384929Z"
    }
   },
   "outputs": [],
   "source": [
    "import numpy as np\n",
    "import pandas as pd\n",
    "import matplotlib.pyplot as plt\n",
    "import seaborn as sns\n",
    "from sklearn.model_selection import train_test_split\n",
    "from sklearn.feature_extraction.text import TfidfVectorizer\n",
    "from nltk.corpus import stopwords \n",
    "from nltk.tokenize import WordPunctTokenizer"
   ]
  },
  {
   "cell_type": "code",
   "execution_count": 2,
   "metadata": {
    "ExecuteTime": {
     "end_time": "2019-11-19T06:43:24.373546Z",
     "start_time": "2019-11-19T06:43:24.370545Z"
    }
   },
   "outputs": [],
   "source": [
    "import warnings\n",
    "warnings.filterwarnings('ignore')"
   ]
  },
  {
   "cell_type": "markdown",
   "metadata": {},
   "source": [
    "## Import Data"
   ]
  },
  {
   "cell_type": "code",
   "execution_count": 3,
   "metadata": {
    "ExecuteTime": {
     "end_time": "2019-11-19T06:43:26.540157Z",
     "start_time": "2019-11-19T06:43:26.089116Z"
    }
   },
   "outputs": [],
   "source": [
    "res = pd.read_csv('D:\\\\Project\\\\Res_Nev_Halal_Final.csv')"
   ]
  },
  {
   "cell_type": "code",
   "execution_count": 4,
   "metadata": {
    "ExecuteTime": {
     "end_time": "2019-11-19T06:43:26.554144Z",
     "start_time": "2019-11-19T06:43:26.542140Z"
    }
   },
   "outputs": [],
   "source": [
    "df = res[['review_id', 'user_id', 'business_id', 'text', 'rating']]"
   ]
  },
  {
   "cell_type": "code",
   "execution_count": 5,
   "metadata": {
    "ExecuteTime": {
     "end_time": "2019-11-19T06:43:29.007463Z",
     "start_time": "2019-11-19T06:43:26.934968Z"
    }
   },
   "outputs": [],
   "source": [
    "df_business = pd.read_csv('D:\\\\Project\\\\business.csv')"
   ]
  },
  {
   "cell_type": "code",
   "execution_count": 6,
   "metadata": {
    "ExecuteTime": {
     "end_time": "2019-11-19T06:43:30.763228Z",
     "start_time": "2019-11-19T06:43:30.744240Z"
    }
   },
   "outputs": [
    {
     "data": {
      "text/plain": [
       "review_id      0\n",
       "user_id        0\n",
       "business_id    0\n",
       "text           0\n",
       "rating         0\n",
       "dtype: int64"
      ]
     },
     "execution_count": 6,
     "metadata": {},
     "output_type": "execute_result"
    }
   ],
   "source": [
    "#Check Null values in Dataframe\n",
    "df.isnull().sum()"
   ]
  },
  {
   "cell_type": "code",
   "execution_count": 7,
   "metadata": {
    "ExecuteTime": {
     "end_time": "2019-11-19T06:43:31.630599Z",
     "start_time": "2019-11-19T06:43:31.618594Z"
    }
   },
   "outputs": [
    {
     "data": {
      "text/html": [
       "<div>\n",
       "<style scoped>\n",
       "    .dataframe tbody tr th:only-of-type {\n",
       "        vertical-align: middle;\n",
       "    }\n",
       "\n",
       "    .dataframe tbody tr th {\n",
       "        vertical-align: top;\n",
       "    }\n",
       "\n",
       "    .dataframe thead th {\n",
       "        text-align: right;\n",
       "    }\n",
       "</style>\n",
       "<table border=\"1\" class=\"dataframe\">\n",
       "  <thead>\n",
       "    <tr style=\"text-align: right;\">\n",
       "      <th></th>\n",
       "      <th>review_id</th>\n",
       "      <th>user_id</th>\n",
       "      <th>business_id</th>\n",
       "      <th>text</th>\n",
       "      <th>rating</th>\n",
       "    </tr>\n",
       "  </thead>\n",
       "  <tbody>\n",
       "    <tr>\n",
       "      <th>0</th>\n",
       "      <td>kCkyGrMMRQbqx69dgzmnEA</td>\n",
       "      <td>I143qmTjREqTwAVWVsB6sw</td>\n",
       "      <td>EfAqol3tWckyNrBMIooJmg</td>\n",
       "      <td>From take out box right to the trash can. I've...</td>\n",
       "      <td>3.5</td>\n",
       "    </tr>\n",
       "    <tr>\n",
       "      <th>1</th>\n",
       "      <td>JJUHx7FNoWnBYsIbEoBopw</td>\n",
       "      <td>GOGAWajma1T-dPZn8xls6A</td>\n",
       "      <td>EfAqol3tWckyNrBMIooJmg</td>\n",
       "      <td>First of all the owner needs to take a chill p...</td>\n",
       "      <td>3.5</td>\n",
       "    </tr>\n",
       "    <tr>\n",
       "      <th>2</th>\n",
       "      <td>4wUnRF4-DistlPJnUwU-Uw</td>\n",
       "      <td>X40NV4DapcQBiYiPMwQkOw</td>\n",
       "      <td>EfAqol3tWckyNrBMIooJmg</td>\n",
       "      <td>It was 108 degrees outside and the AC wasn't w...</td>\n",
       "      <td>3.5</td>\n",
       "    </tr>\n",
       "    <tr>\n",
       "      <th>3</th>\n",
       "      <td>L94lNIuNw3G1UaXgxAgTWg</td>\n",
       "      <td>sPr42M6_rRkKJXNepmfm1A</td>\n",
       "      <td>EfAqol3tWckyNrBMIooJmg</td>\n",
       "      <td>Amazing service and really good Chai tea! If y...</td>\n",
       "      <td>3.5</td>\n",
       "    </tr>\n",
       "    <tr>\n",
       "      <th>4</th>\n",
       "      <td>SGaOzRxoEuiGBdSCWUJ8fQ</td>\n",
       "      <td>ykmEwulkVsiEesovrrpVSA</td>\n",
       "      <td>EfAqol3tWckyNrBMIooJmg</td>\n",
       "      <td>I'm assuming it was the owner but he got up in...</td>\n",
       "      <td>3.5</td>\n",
       "    </tr>\n",
       "  </tbody>\n",
       "</table>\n",
       "</div>"
      ],
      "text/plain": [
       "                review_id                 user_id             business_id  \\\n",
       "0  kCkyGrMMRQbqx69dgzmnEA  I143qmTjREqTwAVWVsB6sw  EfAqol3tWckyNrBMIooJmg   \n",
       "1  JJUHx7FNoWnBYsIbEoBopw  GOGAWajma1T-dPZn8xls6A  EfAqol3tWckyNrBMIooJmg   \n",
       "2  4wUnRF4-DistlPJnUwU-Uw  X40NV4DapcQBiYiPMwQkOw  EfAqol3tWckyNrBMIooJmg   \n",
       "3  L94lNIuNw3G1UaXgxAgTWg  sPr42M6_rRkKJXNepmfm1A  EfAqol3tWckyNrBMIooJmg   \n",
       "4  SGaOzRxoEuiGBdSCWUJ8fQ  ykmEwulkVsiEesovrrpVSA  EfAqol3tWckyNrBMIooJmg   \n",
       "\n",
       "                                                text  rating  \n",
       "0  From take out box right to the trash can. I've...     3.5  \n",
       "1  First of all the owner needs to take a chill p...     3.5  \n",
       "2  It was 108 degrees outside and the AC wasn't w...     3.5  \n",
       "3  Amazing service and really good Chai tea! If y...     3.5  \n",
       "4  I'm assuming it was the owner but he got up in...     3.5  "
      ]
     },
     "execution_count": 7,
     "metadata": {},
     "output_type": "execute_result"
    }
   ],
   "source": [
    "df.head()"
   ]
  },
  {
   "cell_type": "code",
   "execution_count": 8,
   "metadata": {
    "ExecuteTime": {
     "end_time": "2019-11-19T06:43:32.901138Z",
     "start_time": "2019-11-19T06:43:32.894148Z"
    }
   },
   "outputs": [
    {
     "data": {
      "text/plain": [
       "(12024, 5)"
      ]
     },
     "execution_count": 8,
     "metadata": {},
     "output_type": "execute_result"
    }
   ],
   "source": [
    "df.shape"
   ]
  },
  {
   "cell_type": "markdown",
   "metadata": {},
   "source": [
    "### Select only rating and text"
   ]
  },
  {
   "cell_type": "code",
   "execution_count": 9,
   "metadata": {
    "ExecuteTime": {
     "end_time": "2019-11-19T06:43:34.644987Z",
     "start_time": "2019-11-19T06:43:34.618983Z"
    }
   },
   "outputs": [],
   "source": [
    "res_data = df[['business_id', 'user_id', 'rating', 'text']]"
   ]
  },
  {
   "cell_type": "code",
   "execution_count": 10,
   "metadata": {
    "ExecuteTime": {
     "end_time": "2019-11-19T06:43:34.986832Z",
     "start_time": "2019-11-19T06:43:34.974820Z"
    }
   },
   "outputs": [],
   "source": [
    "import string\n",
    "from nltk.corpus import stopwords\n",
    "stop = []\n",
    "for word in stopwords.words('english'):\n",
    "    s = [char for char in word if char not in string.punctuation]\n",
    "    stop.append(''.join(s))"
   ]
  },
  {
   "cell_type": "code",
   "execution_count": 11,
   "metadata": {
    "ExecuteTime": {
     "end_time": "2019-11-19T06:43:35.942656Z",
     "start_time": "2019-11-19T06:43:35.935668Z"
    }
   },
   "outputs": [],
   "source": [
    "def text_process(mess):\n",
    "    \n",
    "    punc = [char for char in mess if char not in string.punctuation]\n",
    "\n",
    "    punc = ''.join(punc)\n",
    "    \n",
    "    return \" \".join([word for word in punc.split() if word.lower() not in stop])"
   ]
  },
  {
   "cell_type": "markdown",
   "metadata": {},
   "source": [
    "### Clean Text"
   ]
  },
  {
   "cell_type": "code",
   "execution_count": 12,
   "metadata": {
    "ExecuteTime": {
     "end_time": "2019-11-19T06:43:43.845434Z",
     "start_time": "2019-11-19T06:43:37.054730Z"
    }
   },
   "outputs": [],
   "source": [
    "res_data['text'] = res_data['text'].apply(text_process)"
   ]
  },
  {
   "cell_type": "code",
   "execution_count": 13,
   "metadata": {
    "ExecuteTime": {
     "end_time": "2019-11-19T06:43:43.865424Z",
     "start_time": "2019-11-19T06:43:43.847428Z"
    }
   },
   "outputs": [],
   "source": [
    "#Split train test for testing the model later\n",
    "#vld_size=0.15\n",
    "#X_train, X_valid, y_train, y_valid = train_test_split(res_data['text'], df['business_id'], test_size = vld_size) "
   ]
  },
  {
   "cell_type": "markdown",
   "metadata": {},
   "source": [
    "### Create two tables of user,text and business,text"
   ]
  },
  {
   "cell_type": "code",
   "execution_count": 14,
   "metadata": {
    "ExecuteTime": {
     "end_time": "2019-11-19T06:45:10.630605Z",
     "start_time": "2019-11-19T06:45:10.621619Z"
    }
   },
   "outputs": [],
   "source": [
    "userid_df = res_data[['user_id','text']]\n",
    "business_df = res_data[['business_id', 'text']]"
   ]
  },
  {
   "cell_type": "code",
   "execution_count": 15,
   "metadata": {
    "ExecuteTime": {
     "end_time": "2019-11-19T06:45:10.986658Z",
     "start_time": "2019-11-19T06:45:10.978666Z"
    }
   },
   "outputs": [
    {
     "data": {
      "text/html": [
       "<div>\n",
       "<style scoped>\n",
       "    .dataframe tbody tr th:only-of-type {\n",
       "        vertical-align: middle;\n",
       "    }\n",
       "\n",
       "    .dataframe tbody tr th {\n",
       "        vertical-align: top;\n",
       "    }\n",
       "\n",
       "    .dataframe thead th {\n",
       "        text-align: right;\n",
       "    }\n",
       "</style>\n",
       "<table border=\"1\" class=\"dataframe\">\n",
       "  <thead>\n",
       "    <tr style=\"text-align: right;\">\n",
       "      <th></th>\n",
       "      <th>user_id</th>\n",
       "      <th>text</th>\n",
       "    </tr>\n",
       "  </thead>\n",
       "  <tbody>\n",
       "    <tr>\n",
       "      <th>0</th>\n",
       "      <td>I143qmTjREqTwAVWVsB6sw</td>\n",
       "      <td>take box right trash Ive Persian Arminian Turk...</td>\n",
       "    </tr>\n",
       "    <tr>\n",
       "      <th>1</th>\n",
       "      <td>GOGAWajma1T-dPZn8xls6A</td>\n",
       "      <td>First owner needs take chill pill let customer...</td>\n",
       "    </tr>\n",
       "    <tr>\n",
       "      <th>2</th>\n",
       "      <td>X40NV4DapcQBiYiPMwQkOw</td>\n",
       "      <td>108 degrees outside AC working asked owner ext...</td>\n",
       "    </tr>\n",
       "    <tr>\n",
       "      <th>3</th>\n",
       "      <td>sPr42M6_rRkKJXNepmfm1A</td>\n",
       "      <td>Amazing service really good Chai tea check get...</td>\n",
       "    </tr>\n",
       "    <tr>\n",
       "      <th>4</th>\n",
       "      <td>ykmEwulkVsiEesovrrpVSA</td>\n",
       "      <td>Im assuming owner got face confrontational ask...</td>\n",
       "    </tr>\n",
       "  </tbody>\n",
       "</table>\n",
       "</div>"
      ],
      "text/plain": [
       "                  user_id                                               text\n",
       "0  I143qmTjREqTwAVWVsB6sw  take box right trash Ive Persian Arminian Turk...\n",
       "1  GOGAWajma1T-dPZn8xls6A  First owner needs take chill pill let customer...\n",
       "2  X40NV4DapcQBiYiPMwQkOw  108 degrees outside AC working asked owner ext...\n",
       "3  sPr42M6_rRkKJXNepmfm1A  Amazing service really good Chai tea check get...\n",
       "4  ykmEwulkVsiEesovrrpVSA  Im assuming owner got face confrontational ask..."
      ]
     },
     "execution_count": 15,
     "metadata": {},
     "output_type": "execute_result"
    }
   ],
   "source": [
    "userid_df.head()"
   ]
  },
  {
   "cell_type": "code",
   "execution_count": 16,
   "metadata": {
    "ExecuteTime": {
     "end_time": "2019-11-19T06:45:13.208948Z",
     "start_time": "2019-11-19T06:45:13.199931Z"
    }
   },
   "outputs": [
    {
     "data": {
      "text/html": [
       "<div>\n",
       "<style scoped>\n",
       "    .dataframe tbody tr th:only-of-type {\n",
       "        vertical-align: middle;\n",
       "    }\n",
       "\n",
       "    .dataframe tbody tr th {\n",
       "        vertical-align: top;\n",
       "    }\n",
       "\n",
       "    .dataframe thead th {\n",
       "        text-align: right;\n",
       "    }\n",
       "</style>\n",
       "<table border=\"1\" class=\"dataframe\">\n",
       "  <thead>\n",
       "    <tr style=\"text-align: right;\">\n",
       "      <th></th>\n",
       "      <th>business_id</th>\n",
       "      <th>text</th>\n",
       "    </tr>\n",
       "  </thead>\n",
       "  <tbody>\n",
       "    <tr>\n",
       "      <th>0</th>\n",
       "      <td>EfAqol3tWckyNrBMIooJmg</td>\n",
       "      <td>take box right trash Ive Persian Arminian Turk...</td>\n",
       "    </tr>\n",
       "    <tr>\n",
       "      <th>1</th>\n",
       "      <td>EfAqol3tWckyNrBMIooJmg</td>\n",
       "      <td>First owner needs take chill pill let customer...</td>\n",
       "    </tr>\n",
       "    <tr>\n",
       "      <th>2</th>\n",
       "      <td>EfAqol3tWckyNrBMIooJmg</td>\n",
       "      <td>108 degrees outside AC working asked owner ext...</td>\n",
       "    </tr>\n",
       "    <tr>\n",
       "      <th>3</th>\n",
       "      <td>EfAqol3tWckyNrBMIooJmg</td>\n",
       "      <td>Amazing service really good Chai tea check get...</td>\n",
       "    </tr>\n",
       "    <tr>\n",
       "      <th>4</th>\n",
       "      <td>EfAqol3tWckyNrBMIooJmg</td>\n",
       "      <td>Im assuming owner got face confrontational ask...</td>\n",
       "    </tr>\n",
       "  </tbody>\n",
       "</table>\n",
       "</div>"
      ],
      "text/plain": [
       "              business_id                                               text\n",
       "0  EfAqol3tWckyNrBMIooJmg  take box right trash Ive Persian Arminian Turk...\n",
       "1  EfAqol3tWckyNrBMIooJmg  First owner needs take chill pill let customer...\n",
       "2  EfAqol3tWckyNrBMIooJmg  108 degrees outside AC working asked owner ext...\n",
       "3  EfAqol3tWckyNrBMIooJmg  Amazing service really good Chai tea check get...\n",
       "4  EfAqol3tWckyNrBMIooJmg  Im assuming owner got face confrontational ask..."
      ]
     },
     "execution_count": 16,
     "metadata": {},
     "output_type": "execute_result"
    }
   ],
   "source": [
    "business_df.head()"
   ]
  },
  {
   "cell_type": "markdown",
   "metadata": {},
   "source": [
    "### Join the text with for each user_id and business_id"
   ]
  },
  {
   "cell_type": "code",
   "execution_count": 17,
   "metadata": {
    "ExecuteTime": {
     "end_time": "2019-11-19T06:45:17.248482Z",
     "start_time": "2019-11-19T06:45:16.985280Z"
    }
   },
   "outputs": [],
   "source": [
    "userid_df = userid_df.groupby('user_id').agg({'text': ' '.join})\n",
    "business_df = business_df.groupby('business_id').agg({'text': ' '.join})"
   ]
  },
  {
   "cell_type": "code",
   "execution_count": 18,
   "metadata": {
    "ExecuteTime": {
     "end_time": "2019-11-19T06:44:03.812393Z",
     "start_time": "2019-11-19T06:44:03.803405Z"
    }
   },
   "outputs": [
    {
     "data": {
      "text/html": [
       "<div>\n",
       "<style scoped>\n",
       "    .dataframe tbody tr th:only-of-type {\n",
       "        vertical-align: middle;\n",
       "    }\n",
       "\n",
       "    .dataframe tbody tr th {\n",
       "        vertical-align: top;\n",
       "    }\n",
       "\n",
       "    .dataframe thead th {\n",
       "        text-align: right;\n",
       "    }\n",
       "</style>\n",
       "<table border=\"1\" class=\"dataframe\">\n",
       "  <thead>\n",
       "    <tr style=\"text-align: right;\">\n",
       "      <th></th>\n",
       "      <th>text</th>\n",
       "    </tr>\n",
       "    <tr>\n",
       "      <th>user_id</th>\n",
       "      <th></th>\n",
       "    </tr>\n",
       "  </thead>\n",
       "  <tbody>\n",
       "    <tr>\n",
       "      <th>-0ZKLS43isCG3V-nCObxmw</th>\n",
       "      <td>placed order jerks manager delivery boy night ...</td>\n",
       "    </tr>\n",
       "    <tr>\n",
       "      <th>-0kBwZEJqWbKgJtwnAsT2w</th>\n",
       "      <td>Best Indian Place LV horrible experience basic...</td>\n",
       "    </tr>\n",
       "    <tr>\n",
       "      <th>-17vo-ag35TT-gccu6XbnA</th>\n",
       "      <td>Stale lentils store bought naan beef stew niha...</td>\n",
       "    </tr>\n",
       "    <tr>\n",
       "      <th>-1BrzE0pqO_EVw9SGzHEnw</th>\n",
       "      <td>Duuuuuude place tho Scott behind bar amazing s...</td>\n",
       "    </tr>\n",
       "    <tr>\n",
       "      <th>-1D4lTzn2HzQlW7OZJo16Q</th>\n",
       "      <td>love eating large calzone eat time Italian sub...</td>\n",
       "    </tr>\n",
       "  </tbody>\n",
       "</table>\n",
       "</div>"
      ],
      "text/plain": [
       "                                                                     text\n",
       "user_id                                                                  \n",
       "-0ZKLS43isCG3V-nCObxmw  placed order jerks manager delivery boy night ...\n",
       "-0kBwZEJqWbKgJtwnAsT2w  Best Indian Place LV horrible experience basic...\n",
       "-17vo-ag35TT-gccu6XbnA  Stale lentils store bought naan beef stew niha...\n",
       "-1BrzE0pqO_EVw9SGzHEnw  Duuuuuude place tho Scott behind bar amazing s...\n",
       "-1D4lTzn2HzQlW7OZJo16Q  love eating large calzone eat time Italian sub..."
      ]
     },
     "execution_count": 18,
     "metadata": {},
     "output_type": "execute_result"
    }
   ],
   "source": [
    "userid_df.head()"
   ]
  },
  {
   "cell_type": "markdown",
   "metadata": {},
   "source": [
    "## User Tfidf Vectorizer"
   ]
  },
  {
   "cell_type": "code",
   "execution_count": 19,
   "metadata": {
    "ExecuteTime": {
     "end_time": "2019-11-19T06:48:25.599924Z",
     "start_time": "2019-11-19T06:48:25.595923Z"
    }
   },
   "outputs": [],
   "source": [
    "from sklearn.feature_extraction.text import TfidfVectorizer"
   ]
  },
  {
   "cell_type": "code",
   "execution_count": 20,
   "metadata": {
    "ExecuteTime": {
     "end_time": "2019-11-19T06:48:31.453879Z",
     "start_time": "2019-11-19T06:48:29.668998Z"
    }
   },
   "outputs": [
    {
     "data": {
      "text/plain": [
       "(10450, 6000)"
      ]
     },
     "execution_count": 20,
     "metadata": {},
     "output_type": "execute_result"
    }
   ],
   "source": [
    "#userid vectorizer\n",
    "userid_vectorizer = TfidfVectorizer(tokenizer = WordPunctTokenizer().tokenize, max_features=6000)\n",
    "userid_vectors = userid_vectorizer.fit_transform(userid_df['text'])\n",
    "userid_vectors.shape"
   ]
  },
  {
   "cell_type": "code",
   "execution_count": 21,
   "metadata": {
    "ExecuteTime": {
     "end_time": "2019-11-19T06:48:31.461882Z",
     "start_time": "2019-11-19T06:48:31.455882Z"
    }
   },
   "outputs": [
    {
     "data": {
      "text/plain": [
       "<10450x6000 sparse matrix of type '<class 'numpy.float64'>'\n",
       "\twith 419781 stored elements in Compressed Sparse Row format>"
      ]
     },
     "execution_count": 21,
     "metadata": {},
     "output_type": "execute_result"
    }
   ],
   "source": [
    "userid_vectors"
   ]
  },
  {
   "cell_type": "code",
   "execution_count": 22,
   "metadata": {
    "ExecuteTime": {
     "end_time": "2019-11-19T06:48:33.259848Z",
     "start_time": "2019-11-19T06:48:31.464894Z"
    }
   },
   "outputs": [
    {
     "data": {
      "text/plain": [
       "(46, 6000)"
      ]
     },
     "execution_count": 22,
     "metadata": {},
     "output_type": "execute_result"
    }
   ],
   "source": [
    "#Business id vectorizer\n",
    "businessid_vectorizer = TfidfVectorizer(tokenizer = WordPunctTokenizer().tokenize, max_features=6000)\n",
    "businessid_vectors = businessid_vectorizer.fit_transform(business_df['text'])\n",
    "businessid_vectors.shape"
   ]
  },
  {
   "cell_type": "markdown",
   "metadata": {},
   "source": [
    "# Matrix Factorization"
   ]
  },
  {
   "cell_type": "code",
   "execution_count": 23,
   "metadata": {
    "ExecuteTime": {
     "end_time": "2019-11-19T04:46:25.934908Z",
     "start_time": "2019-11-19T04:46:25.511878Z"
    }
   },
   "outputs": [
    {
     "data": {
      "text/plain": [
       "(10450, 46)"
      ]
     },
     "execution_count": 23,
     "metadata": {},
     "output_type": "execute_result"
    }
   ],
   "source": [
    "userid_rating_matrix = pd.pivot_table(res_data, values='rating', index=['user_id'], columns=['business_id'])\n",
    "userid_rating_matrix.shape"
   ]
  },
  {
   "cell_type": "code",
   "execution_count": 24,
   "metadata": {
    "ExecuteTime": {
     "end_time": "2019-11-19T04:46:25.976912Z",
     "start_time": "2019-11-19T04:46:25.937908Z"
    }
   },
   "outputs": [
    {
     "data": {
      "text/html": [
       "<div>\n",
       "<style scoped>\n",
       "    .dataframe tbody tr th:only-of-type {\n",
       "        vertical-align: middle;\n",
       "    }\n",
       "\n",
       "    .dataframe tbody tr th {\n",
       "        vertical-align: top;\n",
       "    }\n",
       "\n",
       "    .dataframe thead th {\n",
       "        text-align: right;\n",
       "    }\n",
       "</style>\n",
       "<table border=\"1\" class=\"dataframe\">\n",
       "  <thead>\n",
       "    <tr style=\"text-align: right;\">\n",
       "      <th>business_id</th>\n",
       "      <th>-sEbDB_5jI_yIlklu1o1VQ</th>\n",
       "      <th>3LWsVfsSmb_Nzbi2YQ-NIA</th>\n",
       "      <th>4L3VJwVqUareUUIGPE2zcw</th>\n",
       "      <th>4yAvytbVKHqSYAo3mkI9OA</th>\n",
       "      <th>5O7qB4gNmr3NgdYAuYbP4Q</th>\n",
       "      <th>5gv6AqHXfi3gJV4fb432Vw</th>\n",
       "      <th>9AnvV8V-UvA_rFhMCr_Dlw</th>\n",
       "      <th>ARp5inQqiKuDt2E9tIrX2Q</th>\n",
       "      <th>Cr066pnTj0ioEMZRTHgMOw</th>\n",
       "      <th>EIH5pDc75v4haOcww-SEJg</th>\n",
       "      <th>...</th>\n",
       "      <th>kkdm8TM6qTaVnrz5XsG0hQ</th>\n",
       "      <th>llifBVCFAnr124WdKXmtLg</th>\n",
       "      <th>nS6QENxe6YODNrQ45bpC-A</th>\n",
       "      <th>pcxssrp4IeSN3GlYpPwlQA</th>\n",
       "      <th>qTTBJ83d-nWSnQpXyd44gA</th>\n",
       "      <th>saQQmDQQJ14BVkm_sg53UA</th>\n",
       "      <th>suFSckaQV8NmND7dytpf4w</th>\n",
       "      <th>tRdVEMAtQRdz-Cgw-ff4-A</th>\n",
       "      <th>udh__7erx4PuM5quw8zuVg</th>\n",
       "      <th>vbkA2rfPXXorr-27pVB0DQ</th>\n",
       "    </tr>\n",
       "    <tr>\n",
       "      <th>user_id</th>\n",
       "      <th></th>\n",
       "      <th></th>\n",
       "      <th></th>\n",
       "      <th></th>\n",
       "      <th></th>\n",
       "      <th></th>\n",
       "      <th></th>\n",
       "      <th></th>\n",
       "      <th></th>\n",
       "      <th></th>\n",
       "      <th></th>\n",
       "      <th></th>\n",
       "      <th></th>\n",
       "      <th></th>\n",
       "      <th></th>\n",
       "      <th></th>\n",
       "      <th></th>\n",
       "      <th></th>\n",
       "      <th></th>\n",
       "      <th></th>\n",
       "      <th></th>\n",
       "    </tr>\n",
       "  </thead>\n",
       "  <tbody>\n",
       "    <tr>\n",
       "      <th>-0ZKLS43isCG3V-nCObxmw</th>\n",
       "      <td>NaN</td>\n",
       "      <td>NaN</td>\n",
       "      <td>NaN</td>\n",
       "      <td>NaN</td>\n",
       "      <td>NaN</td>\n",
       "      <td>NaN</td>\n",
       "      <td>NaN</td>\n",
       "      <td>NaN</td>\n",
       "      <td>NaN</td>\n",
       "      <td>NaN</td>\n",
       "      <td>...</td>\n",
       "      <td>NaN</td>\n",
       "      <td>NaN</td>\n",
       "      <td>3.0</td>\n",
       "      <td>NaN</td>\n",
       "      <td>NaN</td>\n",
       "      <td>NaN</td>\n",
       "      <td>NaN</td>\n",
       "      <td>NaN</td>\n",
       "      <td>NaN</td>\n",
       "      <td>NaN</td>\n",
       "    </tr>\n",
       "    <tr>\n",
       "      <th>-0kBwZEJqWbKgJtwnAsT2w</th>\n",
       "      <td>NaN</td>\n",
       "      <td>4.0</td>\n",
       "      <td>NaN</td>\n",
       "      <td>NaN</td>\n",
       "      <td>NaN</td>\n",
       "      <td>NaN</td>\n",
       "      <td>NaN</td>\n",
       "      <td>NaN</td>\n",
       "      <td>NaN</td>\n",
       "      <td>NaN</td>\n",
       "      <td>...</td>\n",
       "      <td>NaN</td>\n",
       "      <td>NaN</td>\n",
       "      <td>NaN</td>\n",
       "      <td>NaN</td>\n",
       "      <td>NaN</td>\n",
       "      <td>NaN</td>\n",
       "      <td>NaN</td>\n",
       "      <td>NaN</td>\n",
       "      <td>NaN</td>\n",
       "      <td>NaN</td>\n",
       "    </tr>\n",
       "    <tr>\n",
       "      <th>-17vo-ag35TT-gccu6XbnA</th>\n",
       "      <td>NaN</td>\n",
       "      <td>NaN</td>\n",
       "      <td>NaN</td>\n",
       "      <td>NaN</td>\n",
       "      <td>NaN</td>\n",
       "      <td>NaN</td>\n",
       "      <td>NaN</td>\n",
       "      <td>NaN</td>\n",
       "      <td>NaN</td>\n",
       "      <td>NaN</td>\n",
       "      <td>...</td>\n",
       "      <td>NaN</td>\n",
       "      <td>NaN</td>\n",
       "      <td>NaN</td>\n",
       "      <td>NaN</td>\n",
       "      <td>NaN</td>\n",
       "      <td>NaN</td>\n",
       "      <td>NaN</td>\n",
       "      <td>NaN</td>\n",
       "      <td>NaN</td>\n",
       "      <td>NaN</td>\n",
       "    </tr>\n",
       "    <tr>\n",
       "      <th>-1BrzE0pqO_EVw9SGzHEnw</th>\n",
       "      <td>NaN</td>\n",
       "      <td>NaN</td>\n",
       "      <td>3.5</td>\n",
       "      <td>NaN</td>\n",
       "      <td>NaN</td>\n",
       "      <td>NaN</td>\n",
       "      <td>NaN</td>\n",
       "      <td>NaN</td>\n",
       "      <td>NaN</td>\n",
       "      <td>NaN</td>\n",
       "      <td>...</td>\n",
       "      <td>NaN</td>\n",
       "      <td>NaN</td>\n",
       "      <td>NaN</td>\n",
       "      <td>NaN</td>\n",
       "      <td>NaN</td>\n",
       "      <td>NaN</td>\n",
       "      <td>NaN</td>\n",
       "      <td>NaN</td>\n",
       "      <td>NaN</td>\n",
       "      <td>NaN</td>\n",
       "    </tr>\n",
       "    <tr>\n",
       "      <th>-1D4lTzn2HzQlW7OZJo16Q</th>\n",
       "      <td>NaN</td>\n",
       "      <td>NaN</td>\n",
       "      <td>NaN</td>\n",
       "      <td>NaN</td>\n",
       "      <td>NaN</td>\n",
       "      <td>NaN</td>\n",
       "      <td>NaN</td>\n",
       "      <td>NaN</td>\n",
       "      <td>NaN</td>\n",
       "      <td>NaN</td>\n",
       "      <td>...</td>\n",
       "      <td>NaN</td>\n",
       "      <td>NaN</td>\n",
       "      <td>NaN</td>\n",
       "      <td>NaN</td>\n",
       "      <td>NaN</td>\n",
       "      <td>NaN</td>\n",
       "      <td>NaN</td>\n",
       "      <td>NaN</td>\n",
       "      <td>NaN</td>\n",
       "      <td>NaN</td>\n",
       "    </tr>\n",
       "  </tbody>\n",
       "</table>\n",
       "<p>5 rows × 46 columns</p>\n",
       "</div>"
      ],
      "text/plain": [
       "business_id             -sEbDB_5jI_yIlklu1o1VQ  3LWsVfsSmb_Nzbi2YQ-NIA  \\\n",
       "user_id                                                                  \n",
       "-0ZKLS43isCG3V-nCObxmw                     NaN                     NaN   \n",
       "-0kBwZEJqWbKgJtwnAsT2w                     NaN                     4.0   \n",
       "-17vo-ag35TT-gccu6XbnA                     NaN                     NaN   \n",
       "-1BrzE0pqO_EVw9SGzHEnw                     NaN                     NaN   \n",
       "-1D4lTzn2HzQlW7OZJo16Q                     NaN                     NaN   \n",
       "\n",
       "business_id             4L3VJwVqUareUUIGPE2zcw  4yAvytbVKHqSYAo3mkI9OA  \\\n",
       "user_id                                                                  \n",
       "-0ZKLS43isCG3V-nCObxmw                     NaN                     NaN   \n",
       "-0kBwZEJqWbKgJtwnAsT2w                     NaN                     NaN   \n",
       "-17vo-ag35TT-gccu6XbnA                     NaN                     NaN   \n",
       "-1BrzE0pqO_EVw9SGzHEnw                     3.5                     NaN   \n",
       "-1D4lTzn2HzQlW7OZJo16Q                     NaN                     NaN   \n",
       "\n",
       "business_id             5O7qB4gNmr3NgdYAuYbP4Q  5gv6AqHXfi3gJV4fb432Vw  \\\n",
       "user_id                                                                  \n",
       "-0ZKLS43isCG3V-nCObxmw                     NaN                     NaN   \n",
       "-0kBwZEJqWbKgJtwnAsT2w                     NaN                     NaN   \n",
       "-17vo-ag35TT-gccu6XbnA                     NaN                     NaN   \n",
       "-1BrzE0pqO_EVw9SGzHEnw                     NaN                     NaN   \n",
       "-1D4lTzn2HzQlW7OZJo16Q                     NaN                     NaN   \n",
       "\n",
       "business_id             9AnvV8V-UvA_rFhMCr_Dlw  ARp5inQqiKuDt2E9tIrX2Q  \\\n",
       "user_id                                                                  \n",
       "-0ZKLS43isCG3V-nCObxmw                     NaN                     NaN   \n",
       "-0kBwZEJqWbKgJtwnAsT2w                     NaN                     NaN   \n",
       "-17vo-ag35TT-gccu6XbnA                     NaN                     NaN   \n",
       "-1BrzE0pqO_EVw9SGzHEnw                     NaN                     NaN   \n",
       "-1D4lTzn2HzQlW7OZJo16Q                     NaN                     NaN   \n",
       "\n",
       "business_id             Cr066pnTj0ioEMZRTHgMOw  EIH5pDc75v4haOcww-SEJg  ...  \\\n",
       "user_id                                                                 ...   \n",
       "-0ZKLS43isCG3V-nCObxmw                     NaN                     NaN  ...   \n",
       "-0kBwZEJqWbKgJtwnAsT2w                     NaN                     NaN  ...   \n",
       "-17vo-ag35TT-gccu6XbnA                     NaN                     NaN  ...   \n",
       "-1BrzE0pqO_EVw9SGzHEnw                     NaN                     NaN  ...   \n",
       "-1D4lTzn2HzQlW7OZJo16Q                     NaN                     NaN  ...   \n",
       "\n",
       "business_id             kkdm8TM6qTaVnrz5XsG0hQ  llifBVCFAnr124WdKXmtLg  \\\n",
       "user_id                                                                  \n",
       "-0ZKLS43isCG3V-nCObxmw                     NaN                     NaN   \n",
       "-0kBwZEJqWbKgJtwnAsT2w                     NaN                     NaN   \n",
       "-17vo-ag35TT-gccu6XbnA                     NaN                     NaN   \n",
       "-1BrzE0pqO_EVw9SGzHEnw                     NaN                     NaN   \n",
       "-1D4lTzn2HzQlW7OZJo16Q                     NaN                     NaN   \n",
       "\n",
       "business_id             nS6QENxe6YODNrQ45bpC-A  pcxssrp4IeSN3GlYpPwlQA  \\\n",
       "user_id                                                                  \n",
       "-0ZKLS43isCG3V-nCObxmw                     3.0                     NaN   \n",
       "-0kBwZEJqWbKgJtwnAsT2w                     NaN                     NaN   \n",
       "-17vo-ag35TT-gccu6XbnA                     NaN                     NaN   \n",
       "-1BrzE0pqO_EVw9SGzHEnw                     NaN                     NaN   \n",
       "-1D4lTzn2HzQlW7OZJo16Q                     NaN                     NaN   \n",
       "\n",
       "business_id             qTTBJ83d-nWSnQpXyd44gA  saQQmDQQJ14BVkm_sg53UA  \\\n",
       "user_id                                                                  \n",
       "-0ZKLS43isCG3V-nCObxmw                     NaN                     NaN   \n",
       "-0kBwZEJqWbKgJtwnAsT2w                     NaN                     NaN   \n",
       "-17vo-ag35TT-gccu6XbnA                     NaN                     NaN   \n",
       "-1BrzE0pqO_EVw9SGzHEnw                     NaN                     NaN   \n",
       "-1D4lTzn2HzQlW7OZJo16Q                     NaN                     NaN   \n",
       "\n",
       "business_id             suFSckaQV8NmND7dytpf4w  tRdVEMAtQRdz-Cgw-ff4-A  \\\n",
       "user_id                                                                  \n",
       "-0ZKLS43isCG3V-nCObxmw                     NaN                     NaN   \n",
       "-0kBwZEJqWbKgJtwnAsT2w                     NaN                     NaN   \n",
       "-17vo-ag35TT-gccu6XbnA                     NaN                     NaN   \n",
       "-1BrzE0pqO_EVw9SGzHEnw                     NaN                     NaN   \n",
       "-1D4lTzn2HzQlW7OZJo16Q                     NaN                     NaN   \n",
       "\n",
       "business_id             udh__7erx4PuM5quw8zuVg  vbkA2rfPXXorr-27pVB0DQ  \n",
       "user_id                                                                 \n",
       "-0ZKLS43isCG3V-nCObxmw                     NaN                     NaN  \n",
       "-0kBwZEJqWbKgJtwnAsT2w                     NaN                     NaN  \n",
       "-17vo-ag35TT-gccu6XbnA                     NaN                     NaN  \n",
       "-1BrzE0pqO_EVw9SGzHEnw                     NaN                     NaN  \n",
       "-1D4lTzn2HzQlW7OZJo16Q                     NaN                     NaN  \n",
       "\n",
       "[5 rows x 46 columns]"
      ]
     },
     "execution_count": 24,
     "metadata": {},
     "output_type": "execute_result"
    }
   ],
   "source": [
    "userid_rating_matrix.head()"
   ]
  },
  {
   "cell_type": "code",
   "execution_count": 25,
   "metadata": {
    "ExecuteTime": {
     "end_time": "2019-11-19T04:46:28.725506Z",
     "start_time": "2019-11-19T04:46:28.476488Z"
    }
   },
   "outputs": [],
   "source": [
    "P = pd.DataFrame(userid_vectors.toarray(), index=userid_df.index, columns=userid_vectorizer.get_feature_names())\n",
    "Q = pd.DataFrame(businessid_vectors.toarray(), index=business_df.index, columns=businessid_vectorizer.get_feature_names())"
   ]
  },
  {
   "cell_type": "code",
   "execution_count": 26,
   "metadata": {
    "ExecuteTime": {
     "end_time": "2019-11-19T04:46:28.787513Z",
     "start_time": "2019-11-19T04:46:28.761509Z"
    }
   },
   "outputs": [
    {
     "data": {
      "text/html": [
       "<div>\n",
       "<style scoped>\n",
       "    .dataframe tbody tr th:only-of-type {\n",
       "        vertical-align: middle;\n",
       "    }\n",
       "\n",
       "    .dataframe tbody tr th {\n",
       "        vertical-align: top;\n",
       "    }\n",
       "\n",
       "    .dataframe thead th {\n",
       "        text-align: right;\n",
       "    }\n",
       "</style>\n",
       "<table border=\"1\" class=\"dataframe\">\n",
       "  <thead>\n",
       "    <tr style=\"text-align: right;\">\n",
       "      <th></th>\n",
       "      <th>0</th>\n",
       "      <th>05</th>\n",
       "      <th>1</th>\n",
       "      <th>10</th>\n",
       "      <th>100</th>\n",
       "      <th>1000</th>\n",
       "      <th>1010</th>\n",
       "      <th>1015</th>\n",
       "      <th>1030</th>\n",
       "      <th>1050</th>\n",
       "      <th>...</th>\n",
       "      <th>zealand</th>\n",
       "      <th>zeera</th>\n",
       "      <th>zero</th>\n",
       "      <th>zinger</th>\n",
       "      <th>zone</th>\n",
       "      <th>zu</th>\n",
       "      <th>zucchini</th>\n",
       "      <th>‍</th>\n",
       "      <th>。</th>\n",
       "      <th>，</th>\n",
       "    </tr>\n",
       "    <tr>\n",
       "      <th>business_id</th>\n",
       "      <th></th>\n",
       "      <th></th>\n",
       "      <th></th>\n",
       "      <th></th>\n",
       "      <th></th>\n",
       "      <th></th>\n",
       "      <th></th>\n",
       "      <th></th>\n",
       "      <th></th>\n",
       "      <th></th>\n",
       "      <th></th>\n",
       "      <th></th>\n",
       "      <th></th>\n",
       "      <th></th>\n",
       "      <th></th>\n",
       "      <th></th>\n",
       "      <th></th>\n",
       "      <th></th>\n",
       "      <th></th>\n",
       "      <th></th>\n",
       "      <th></th>\n",
       "    </tr>\n",
       "  </thead>\n",
       "  <tbody>\n",
       "    <tr>\n",
       "      <th>-sEbDB_5jI_yIlklu1o1VQ</th>\n",
       "      <td>0.018702</td>\n",
       "      <td>0.0</td>\n",
       "      <td>0.011827</td>\n",
       "      <td>0.011577</td>\n",
       "      <td>0.000000</td>\n",
       "      <td>0.000000</td>\n",
       "      <td>0.000000</td>\n",
       "      <td>0.0</td>\n",
       "      <td>0.000000</td>\n",
       "      <td>0.000000</td>\n",
       "      <td>...</td>\n",
       "      <td>0.0</td>\n",
       "      <td>0.0</td>\n",
       "      <td>0.000000</td>\n",
       "      <td>0.0</td>\n",
       "      <td>0.0</td>\n",
       "      <td>0.0</td>\n",
       "      <td>0.0</td>\n",
       "      <td>0.0</td>\n",
       "      <td>0.0</td>\n",
       "      <td>0.0</td>\n",
       "    </tr>\n",
       "    <tr>\n",
       "      <th>3LWsVfsSmb_Nzbi2YQ-NIA</th>\n",
       "      <td>0.002391</td>\n",
       "      <td>0.0</td>\n",
       "      <td>0.011090</td>\n",
       "      <td>0.015296</td>\n",
       "      <td>0.004127</td>\n",
       "      <td>0.001072</td>\n",
       "      <td>0.001002</td>\n",
       "      <td>0.0</td>\n",
       "      <td>0.002309</td>\n",
       "      <td>0.000000</td>\n",
       "      <td>...</td>\n",
       "      <td>0.0</td>\n",
       "      <td>0.0</td>\n",
       "      <td>0.000739</td>\n",
       "      <td>0.0</td>\n",
       "      <td>0.0</td>\n",
       "      <td>0.0</td>\n",
       "      <td>0.0</td>\n",
       "      <td>0.0</td>\n",
       "      <td>0.0</td>\n",
       "      <td>0.0</td>\n",
       "    </tr>\n",
       "    <tr>\n",
       "      <th>4L3VJwVqUareUUIGPE2zcw</th>\n",
       "      <td>0.000000</td>\n",
       "      <td>0.0</td>\n",
       "      <td>0.023968</td>\n",
       "      <td>0.014076</td>\n",
       "      <td>0.000000</td>\n",
       "      <td>0.000000</td>\n",
       "      <td>0.000000</td>\n",
       "      <td>0.0</td>\n",
       "      <td>0.000000</td>\n",
       "      <td>0.000000</td>\n",
       "      <td>...</td>\n",
       "      <td>0.0</td>\n",
       "      <td>0.0</td>\n",
       "      <td>0.000000</td>\n",
       "      <td>0.0</td>\n",
       "      <td>0.0</td>\n",
       "      <td>0.0</td>\n",
       "      <td>0.0</td>\n",
       "      <td>0.0</td>\n",
       "      <td>0.0</td>\n",
       "      <td>0.0</td>\n",
       "    </tr>\n",
       "    <tr>\n",
       "      <th>4yAvytbVKHqSYAo3mkI9OA</th>\n",
       "      <td>0.000000</td>\n",
       "      <td>0.0</td>\n",
       "      <td>0.005269</td>\n",
       "      <td>0.010315</td>\n",
       "      <td>0.003595</td>\n",
       "      <td>0.000000</td>\n",
       "      <td>0.000000</td>\n",
       "      <td>0.0</td>\n",
       "      <td>0.000000</td>\n",
       "      <td>0.000000</td>\n",
       "      <td>...</td>\n",
       "      <td>0.0</td>\n",
       "      <td>0.0</td>\n",
       "      <td>0.000000</td>\n",
       "      <td>0.0</td>\n",
       "      <td>0.0</td>\n",
       "      <td>0.0</td>\n",
       "      <td>0.0</td>\n",
       "      <td>0.0</td>\n",
       "      <td>0.0</td>\n",
       "      <td>0.0</td>\n",
       "    </tr>\n",
       "    <tr>\n",
       "      <th>5O7qB4gNmr3NgdYAuYbP4Q</th>\n",
       "      <td>0.000000</td>\n",
       "      <td>0.0</td>\n",
       "      <td>0.026917</td>\n",
       "      <td>0.015056</td>\n",
       "      <td>0.000000</td>\n",
       "      <td>0.000000</td>\n",
       "      <td>0.000000</td>\n",
       "      <td>0.0</td>\n",
       "      <td>0.000000</td>\n",
       "      <td>0.022403</td>\n",
       "      <td>...</td>\n",
       "      <td>0.0</td>\n",
       "      <td>0.0</td>\n",
       "      <td>0.011277</td>\n",
       "      <td>0.0</td>\n",
       "      <td>0.0</td>\n",
       "      <td>0.0</td>\n",
       "      <td>0.0</td>\n",
       "      <td>0.0</td>\n",
       "      <td>0.0</td>\n",
       "      <td>0.0</td>\n",
       "    </tr>\n",
       "  </tbody>\n",
       "</table>\n",
       "<p>5 rows × 6000 columns</p>\n",
       "</div>"
      ],
      "text/plain": [
       "                               0   05         1        10       100      1000  \\\n",
       "business_id                                                                     \n",
       "-sEbDB_5jI_yIlklu1o1VQ  0.018702  0.0  0.011827  0.011577  0.000000  0.000000   \n",
       "3LWsVfsSmb_Nzbi2YQ-NIA  0.002391  0.0  0.011090  0.015296  0.004127  0.001072   \n",
       "4L3VJwVqUareUUIGPE2zcw  0.000000  0.0  0.023968  0.014076  0.000000  0.000000   \n",
       "4yAvytbVKHqSYAo3mkI9OA  0.000000  0.0  0.005269  0.010315  0.003595  0.000000   \n",
       "5O7qB4gNmr3NgdYAuYbP4Q  0.000000  0.0  0.026917  0.015056  0.000000  0.000000   \n",
       "\n",
       "                            1010  1015      1030      1050  ...  zealand  \\\n",
       "business_id                                                 ...            \n",
       "-sEbDB_5jI_yIlklu1o1VQ  0.000000   0.0  0.000000  0.000000  ...      0.0   \n",
       "3LWsVfsSmb_Nzbi2YQ-NIA  0.001002   0.0  0.002309  0.000000  ...      0.0   \n",
       "4L3VJwVqUareUUIGPE2zcw  0.000000   0.0  0.000000  0.000000  ...      0.0   \n",
       "4yAvytbVKHqSYAo3mkI9OA  0.000000   0.0  0.000000  0.000000  ...      0.0   \n",
       "5O7qB4gNmr3NgdYAuYbP4Q  0.000000   0.0  0.000000  0.022403  ...      0.0   \n",
       "\n",
       "                        zeera      zero  zinger  zone   zu  zucchini    ‍  \\\n",
       "business_id                                                                 \n",
       "-sEbDB_5jI_yIlklu1o1VQ    0.0  0.000000     0.0   0.0  0.0       0.0  0.0   \n",
       "3LWsVfsSmb_Nzbi2YQ-NIA    0.0  0.000739     0.0   0.0  0.0       0.0  0.0   \n",
       "4L3VJwVqUareUUIGPE2zcw    0.0  0.000000     0.0   0.0  0.0       0.0  0.0   \n",
       "4yAvytbVKHqSYAo3mkI9OA    0.0  0.000000     0.0   0.0  0.0       0.0  0.0   \n",
       "5O7qB4gNmr3NgdYAuYbP4Q    0.0  0.011277     0.0   0.0  0.0       0.0  0.0   \n",
       "\n",
       "                          。    ，  \n",
       "business_id                       \n",
       "-sEbDB_5jI_yIlklu1o1VQ  0.0  0.0  \n",
       "3LWsVfsSmb_Nzbi2YQ-NIA  0.0  0.0  \n",
       "4L3VJwVqUareUUIGPE2zcw  0.0  0.0  \n",
       "4yAvytbVKHqSYAo3mkI9OA  0.0  0.0  \n",
       "5O7qB4gNmr3NgdYAuYbP4Q  0.0  0.0  \n",
       "\n",
       "[5 rows x 6000 columns]"
      ]
     },
     "execution_count": 26,
     "metadata": {},
     "output_type": "execute_result"
    }
   ],
   "source": [
    "Q.head()"
   ]
  },
  {
   "cell_type": "markdown",
   "metadata": {},
   "source": [
    "## Prediction for input text"
   ]
  },
  {
   "cell_type": "code",
   "execution_count": 28,
   "metadata": {
    "ExecuteTime": {
     "end_time": "2019-11-19T06:02:20.318732Z",
     "start_time": "2019-11-19T06:02:19.857406Z"
    }
   },
   "outputs": [
    {
     "name": "stdout",
     "output_type": "stream",
     "text": [
      "Little Italy Pizza\n",
      "Halal, Italian, Pizza, Restaurants\n",
      "3.5 153\n",
      "\n",
      "Sorrento Pizza\n",
      "Pizza, Restaurants, Halal, Salad, Chicken Wings\n",
      "3.0 94\n",
      "\n",
      "Pizza house & bakery Middle East Fast Food\n",
      "Persian/Iranian, Restaurants, Sandwiches, Pizza, Mediterranean, Bakeries, Halal, Food\n",
      "4.5 33\n",
      "\n",
      "Verdi Pizza\n",
      "Restaurants, Pizza, Cafes, Mediterranean, Halal, Chicken Wings, Italian\n",
      "3.0 233\n",
      "\n",
      "La Bocce\n",
      "Chicken Wings, Restaurants, Italian, Salad, Halal, Pizza\n",
      "4.0 139\n",
      "\n"
     ]
    }
   ],
   "source": [
    "words = \"i want to eat pizza\"\n",
    "test_df= pd.DataFrame([words], columns=['text'])\n",
    "test_df['text'] = test_df['text'].apply(text_process)\n",
    "test_vectors = userid_vectorizer.transform(test_df['text'])\n",
    "test_v_df = pd.DataFrame(test_vectors.toarray(), index=test_df.index, columns=userid_vectorizer.get_feature_names())\n",
    "\n",
    "predictItemRating=pd.DataFrame(np.dot(test_v_df.loc[0],Q.T),index=Q.index,columns=['Rating'])\n",
    "topRecommendations=pd.DataFrame.sort_values(predictItemRating,['Rating'],ascending=[0])[:5]\n",
    "\n",
    "for i in topRecommendations.index:\n",
    "    print(df_business[df_business['business_id']==i]['name'].iloc[0])\n",
    "    print(df_business[df_business['business_id']==i]['categories'].iloc[0])\n",
    "    print(str(df_business[df_business['business_id']==i]['ratings'].iloc[0])+ ' '+str(df_business[df_business['business_id']==i]['review_count'].iloc[0]))\n",
    "    print('')\n"
   ]
  },
  {
   "cell_type": "code",
   "execution_count": null,
   "metadata": {},
   "outputs": [],
   "source": []
  }
 ],
 "metadata": {
  "kernelspec": {
   "display_name": "Python 3",
   "language": "python",
   "name": "python3"
  },
  "language_info": {
   "codemirror_mode": {
    "name": "ipython",
    "version": 3
   },
   "file_extension": ".py",
   "mimetype": "text/x-python",
   "name": "python",
   "nbconvert_exporter": "python",
   "pygments_lexer": "ipython3",
   "version": "3.8.3"
  }
 },
 "nbformat": 4,
 "nbformat_minor": 4
}
